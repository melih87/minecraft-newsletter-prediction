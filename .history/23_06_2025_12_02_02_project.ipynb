{
 "cells": [
  {
   "cell_type": "code",
   "execution_count": null,
   "id": "a2da95c9-17c8-42fc-b39b-2460fb548fea",
   "metadata": {},
   "outputs": [],
   "source": [
    "library(tidyverse)\n",
    "library(readr)\n",
    "library(ggplot2)\n",
    "library(tidymodels)"
   ]
  },
  {
   "cell_type": "code",
   "execution_count": null,
   "id": "e2d2766c-467c-40f9-87c5-fbb65e5fff9e",
   "metadata": {},
   "outputs": [],
   "source": [
    "# Load the datasets\n",
    "players <- read_csv(\"players.csv\")\n",
    "sessions <- read_csv(\"sessions.csv\")"
   ]
  },
  {
   "cell_type": "code",
   "execution_count": null,
   "id": "eb1727e8-c96d-43f8-a7a0-cc8e6e6d495c",
   "metadata": {},
   "outputs": [],
   "source": []
  },
  {
   "cell_type": "code",
   "execution_count": null,
   "id": "f0481bbf-f824-45cb-a71c-91917caa5372",
   "metadata": {},
   "outputs": [],
   "source": [
    "# View first few rows of players\n",
    "head(players)\n",
    "\n",
    "# View structure of players dataset\n",
    "glimpse(players)\n",
    "\n",
    "# Summary statistics for players\n",
    "summary(players)"
   ]
  },
  {
   "cell_type": "code",
   "execution_count": null,
   "id": "e797fc27-b5d5-46e6-bc41-8ab3572cd5d7",
   "metadata": {},
   "outputs": [],
   "source": [
    "# View first few rows of sessions\n",
    "head(sessions)\n",
    "\n",
    "# View structure of sessions dataset\n",
    "glimpse(sessions)\n",
    "\n",
    "# Summary statistics for sessions\n",
    "summary(sessions)"
   ]
  },
  {
   "cell_type": "markdown",
   "id": "df62ea3e-b941-4a17-b659-8b9636a53577",
   "metadata": {},
   "source": [
    "## Introduction\n",
    "\n",
    "This project explores whether player characteristics and gameplay behavior can predict subscription to a game-related newsletter on a Minecraft research server. The ability to forecast which players are most likely to subscribe can help the research team at UBC improve outreach, allocate server resources effectively, and recruit more engaged users.\n",
    "\n",
    "We will explore the datasets provided and build a classification model to predict newsletter subscription.\n"
   ]
  },
  {
   "cell_type": "code",
   "execution_count": null,
   "id": "23ab1f4a-9cb5-49fd-8955-89dc959c8a9a",
   "metadata": {},
   "outputs": [],
   "source": [
    "# Step 1: Calculate median age (excluding NAs)\n",
    "median_age <- players %>%\n",
    "  filter(!is.na(Age)) %>%\n",
    "  summarize(median_age = median(Age)) %>%\n",
    "  pull(median_age)\n",
    "\n",
    "# Step 2: Split data: players with age, players without\n",
    "players_with_age <- players %>%\n",
    "  filter(!is.na(Age))\n",
    "\n",
    "players_missing_age <- players %>%\n",
    "  filter(is.na(Age)) %>%\n",
    "  mutate(Age = median_age)\n",
    "#bgdnbgcfmfcjxt\n",
    "\n",
    "# Step 3: Combine back together\n",
    "players <- bind_rows(players_with_age, players_missing_age)"
   ]
  },
  {
   "cell_type": "code",
   "execution_count": null,
   "id": "5cbbeec5-60f6-47a7-9caa-b51d53f135b0",
   "metadata": {},
   "outputs": [],
   "source": [
    "# Create session duration using original timestamp columns\n",
    "sessions <- sessions %>%\n",
    "  mutate(session_duration = (original_end_time - original_start_time) / (1000 * 60))"
   ]
  },
  {
   "cell_type": "code",
   "execution_count": null,
   "id": "77aa48d1-fa84-46f3-81f5-a9acaf7371a6",
   "metadata": {},
   "outputs": [],
   "source": [
    "# For each player, count how many sessions they had,\n",
    "session_summary <- sessions %>%\n",
    "  group_by(hashedEmail) %>%\n",
    "  summarize(\n",
    "    num_sessions = n(),\n",
    "    total_play_time = sum(session_duration, na.rm = TRUE),\n",
    "    avg_session_length = mean(session_duration, na.rm = TRUE)\n",
    "  )"
   ]
  },
  {
   "cell_type": "code",
   "execution_count": null,
   "id": "f8d39d43-8770-4011-9e91-026c07449758",
   "metadata": {},
   "outputs": [],
   "source": [
    "# Join players with session summary\n",
    "merged_data <- left_join(players, session_summary, by = \"hashedEmail\")\n",
    "\n",
    "# Split rows into those with session data and those without\n",
    "session_data_rows <- merged_data %>%\n",
    "  filter(!is.na(num_sessions))\n",
    "\n",
    "no_session_data_rows <- merged_data %>%\n",
    "  filter(is.na(num_sessions)) %>%\n",
    "  mutate(\n",
    "    num_sessions = 0,\n",
    "    total_play_time = 0,\n",
    "    avg_session_length = 0\n",
    "  )\n",
    "\n",
    "# Combine them back\n",
    "merged_data <- bind_rows(session_data_rows, no_session_data_rows)\n",
    "head(merged_data)"
   ]
  },
  {
   "cell_type": "code",
   "execution_count": null,
   "id": "8486c47d-2b6f-4661-9aeb-56c03c0576e5",
   "metadata": {},
   "outputs": [],
   "source": []
  },
  {
   "cell_type": "markdown",
   "id": "f82939dd-3970-4d7b-99da-1f1a7507f681",
   "metadata": {},
   "source": [
    "## Phase 3: Data Cleaning and Merging\n",
    "\n",
    "In this phase, we prepared our dataset for analysis by cleaning and combining the two raw data sources: `players.csv` and `sessions.csv`.\n",
    "\n",
    "We began by handling missing values in the `Age` column of the `players` dataset. Since we have not yet learned conditional replacement functions like `ifelse()` or `case_when()` in DSCI 100, we used filtering and `mutate()` to separate players with and without age data. We then calculated the median age of those with valid entries and assigned it to the missing entries. The two subsets were recombined using `bind_rows()` to form a complete version of the `players` dataset.\n",
    "\n",
    "Next, we calculated session durations using the `original_start_time` and `original_end_time` columns from the `sessions` dataset. These columns were recorded as numeric timestamps (in milliseconds), so we computed the session duration in minutes by subtracting the two values and dividing by 1000 × 60.\n",
    "\n",
    "We then created a new summary table grouped by player (`hashedEmail`) that contained three new variables:\n",
    "- `num_sessions`: the number of recorded sessions per player\n",
    "- `total_play_time`: the total number of minutes played\n",
    "- `avg_session_length`: the average duration of a session for each player\n",
    "\n",
    "Finally, we merged this session summary with the cleaned `players` dataset using `left_join()`. Some players did not have any recorded session data, resulting in missing values for the session-based columns. To address this, we filtered those rows, replaced their missing values with 0 using `mutate()`, and recombined them with the complete-session rows using `bind_rows()`.\n",
    "\n",
    "The result is a single, clean dataset called `merged_data` that contains demographic and behavioral features for each player. This dataset is now ready for exploratory data analysis in the next phase.\n"
   ]
  },
  {
   "cell_type": "code",
   "execution_count": null,
   "id": "f0771fb3-1057-44be-9c6b-f2686683108e",
   "metadata": {},
   "outputs": [],
   "source": [
    "# Bar chart: subscription count by experience level\n",
    "ggplot(merged_data, aes(x = experience, fill = subscribe)) +\n",
    "  geom_bar(position = \"dodge\") +\n",
    "  labs(title = \"Subscription by Experience Level\", x = \"Experience\", y = \"Count\")\n",
    "\n",
    "# Boxplot: played hours vs subscription\n",
    "ggplot(merged_data, aes(x = subscribe, y = played_hours)) +\n",
    "  geom_boxplot() +\n",
    "  labs(title = \"Played Hours by Subscription Status\", x = \"Subscribed\", y = \"Played Hours\")\n",
    "\n",
    "# Boxplot: average session length vs subscription\n",
    "ggplot(merged_data, aes(x = subscribe, y = avg_session_length)) +\n",
    "  geom_boxplot() +\n",
    "  labs(title = \"Average Session Length by Subscription\", x = \"Subscribed\", y = \"Avg Session Length (min)\")\n"
   ]
  },
  {
   "cell_type": "code",
   "execution_count": null,
   "id": "e109781b-c5d5-496f-8f18-f9db735ea17a",
   "metadata": {},
   "outputs": [],
   "source": [
    "# Average stats grouped by subscription status\n",
    "merged_data %>%\n",
    "  group_by(subscribe) %>%\n",
    "  summarize(\n",
    "    avg_played_hours = mean(played_hours),\n",
    "    avg_num_sessions = mean(num_sessions),\n",
    "    avg_total_play = mean(total_play_time),\n",
    "    avg_session_length = mean(avg_session_length),\n",
    "    avg_age = mean(Age)\n",
    "  )\n"
   ]
  },
  {
   "cell_type": "markdown",
   "id": "dd3daa42-5f6a-4467-9eba-45dbd3681392",
   "metadata": {},
   "source": [
    "In this phase ,we explored how player characteristics and behavior relate to newsletter subscription status.\n",
    "\n",
    "First, we visualized subscription counts by experience level using a bar chart. We also used boxplots to compare `played_hours` and `avg_session_length` between players who subscribed and those who did not. These visualizations help reveal differences in engagement.\n",
    "\n",
    "Next, we created a summary table to compare the average behavior of subscribed vs. non-subscribed players. Subscribed players tended to have higher average play time, more sessions, and longer average session durations, suggesting that more engaged players are more likely to subscribe.\n",
    "\n",
    "These findings support the idea that behavioral features could help predict subscription status in later modeling phases.\n"
   ]
  },
  {
   "cell_type": "code",
   "execution_count": null,
   "id": "50f6676c-92c1-4575-af98-c448c9126f5b",
   "metadata": {},
   "outputs": [],
   "source": [
    "# Make sure subscribe is a factor (for classification)\n",
    "merged_data <- merged_data %>%\n",
    "  mutate(subscribe = as.factor(subscribe))"
   ]
  },
  {
   "cell_type": "code",
   "execution_count": null,
   "id": "3e54a165-e3b5-471c-a39e-30d112b41056",
   "metadata": {},
   "outputs": [],
   "source": [
    "set.seed(123)  # for reproducibility\n",
    "\n",
    "data_split <- initial_split(merged_data, prop = 0.8, strata = subscribe)\n",
    "train_data <- training(data_split)\n",
    "test_data <- testing(data_split)"
   ]
  }
 ],
 "metadata": {
  "kernelspec": {
   "display_name": "R",
   "language": "R",
   "name": "ir"
  },
  "language_info": {
   "codemirror_mode": "r",
   "file_extension": ".r",
   "mimetype": "text/x-r-source",
   "name": "R",
   "pygments_lexer": "r",
   "version": "4.3.3"
  }
 },
 "nbformat": 4,
 "nbformat_minor": 5
}
